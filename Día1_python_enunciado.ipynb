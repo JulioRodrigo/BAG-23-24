{
 "cells": [
  {
   "cell_type": "markdown",
   "id": "25e406e4",
   "metadata": {},
   "source": [
    "# Python básico\n",
    "\n",
    "Ana Belén Romero Losada\n",
    "Departamento de Ciencias de la Computación e Inteligencia Artificial\n",
    "Universidad de Sevila\n",
    "\n",
    "En esta hoja de trabajo vamos a ver lo esencial de Python para poder empezar a practicar con el lenguaje.\n",
    "\n",
    "En el entorno Jupyter se trabaja Python sobre un notebook u hoja de trabajo. Esta hoja de trabajo está formada por una secuencia de cajas, que pueden ser de texto, en las que explicar ideas y conceptos, o de código, en las que definir o evaluar funciones Python.\n"
   ]
  },
  {
   "cell_type": "markdown",
   "id": "6f83aa55",
   "metadata": {},
   "source": [
    "##  Ejercicio 1\n",
    "\n",
    "Crea una función que resuelva una ecuación de segundo grado en jupyter y en R. Compara las diferencias a la hora de realizar operaciones aritméticas y lógicas, declarar variables/objetos y usar las estructuras de control. \n",
    "\n",
    "PISTA: existe una función llamada round() para redondear. Se usa como típicamente se usa en R."
   ]
  },
  {
   "cell_type": "code",
   "execution_count": 37,
   "id": "5a496365",
   "metadata": {},
   "outputs": [],
   "source": [
    "#Crea la funcion llamada calculadora\n",
    "##comprueba si el número que iría dentro de la raiz cuadrada es negativo\n",
    "###Devuelve 0 y un mensaje de error\n",
    "##en el caso que no lo sea, resuelve la ecuacion\n",
    "### imprime por pantalla los siguientes mensajes\n",
    "####\"ambas soluciones son válidas, x puede valer sol1 y sol2\"\n",
    "####\"Solo la solucion 1 es válida, x vale sol1\"\n",
    "####\"Solo la solucion 2 es válida, x vale sol2\"\n",
    "\n",
    "def calculadora(a, b, c):\n",
    "    dentro = b**2 - 4 *a*c\n",
    "    if (dentro < 0):\n",
    "        print(\"Error\")\n",
    "        print(\"Cero\")\n",
    "        return\n",
    "    else: \n",
    "        sol1 = round((-b + dentro **1/2)/(2*a))\n",
    "        sol2 = round((-b - dentro **1/2)/(2*a))\n",
    "    return sol1,sol2"
   ]
  },
  {
   "cell_type": "code",
   "execution_count": 20,
   "id": "12dde7a4",
   "metadata": {},
   "outputs": [
    {
     "name": "stdout",
     "output_type": "stream",
     "text": [
      "Error\n",
      "Cero\n"
     ]
    },
    {
     "data": {
      "text/plain": [
       "(3, 2)"
      ]
     },
     "execution_count": 20,
     "metadata": {},
     "output_type": "execute_result"
    }
   ],
   "source": [
    "calculadora(2,4,7)\n",
    "calculadora(1,-5,6)"
   ]
  },
  {
   "cell_type": "markdown",
   "id": "0bdfc9f1",
   "metadata": {},
   "source": [
    "## Ejercicio 2\n",
    "\n",
    "Traduce este pseudocódigo a código en R y python simultáneamente. \n",
    "\n"
   ]
  },
  {
   "cell_type": "code",
   "execution_count": 40,
   "id": "d22b6179",
   "metadata": {},
   "outputs": [
    {
     "data": {
      "text/plain": [
       "4"
      ]
     },
     "execution_count": 40,
     "metadata": {},
     "output_type": "execute_result"
    }
   ],
   "source": [
    "#Declara una variable llamada x que valga 2\n",
    "#Súmale 2 a x\n",
    "\n",
    "x=2\n",
    "x+=2\n",
    "x"
   ]
  },
  {
   "cell_type": "code",
   "execution_count": 44,
   "id": "c04298d3",
   "metadata": {},
   "outputs": [
    {
     "data": {
      "text/plain": [
       "'hola hola hola hola '"
      ]
     },
     "execution_count": 44,
     "metadata": {},
     "output_type": "execute_result"
    }
   ],
   "source": [
    "#Declara una variable llamada palabra que valga \"hola\"\n",
    "#Cuadrupicla la variable palabra\n",
    "palabra = \"hola \"\n",
    "palabra*=4\n",
    "palabra"
   ]
  },
  {
   "cell_type": "code",
   "execution_count": 60,
   "id": "a9457486",
   "metadata": {},
   "outputs": [
    {
     "data": {
      "text/plain": [
       "'socram'"
      ]
     },
     "execution_count": 60,
     "metadata": {},
     "output_type": "execute_result"
    }
   ],
   "source": [
    "#añade las palabras \"mundo que tal\" a palabra\n",
    "#encuentra en que posicion está mundo\n",
    "#escribelo en mayuscula y cuenta cuantas \"a\" hay (esto hazlo solo en python)\n",
    "palabra+=\"mundo que tal\"\n",
    "palabra\n",
    "\n",
    "palabra.index(\"mundo\")\n",
    "palabra.upper()\n",
    "palabra.find(\"tal\")\n",
    "palabra.count(\"a\")\n",
    "palabra\n",
    "palabra[0:6]\n",
    "palabra[0:12:2]\n",
    "palabra2 = \"marcos\"\n",
    "palabra2[::-1]"
   ]
  },
  {
   "cell_type": "markdown",
   "id": "cd1fc86f",
   "metadata": {},
   "source": [
    "## Ejercicio 3\n",
    "\n",
    "Vamos a prácticar con las demás clases de objetos en python."
   ]
  },
  {
   "cell_type": "code",
   "execution_count": 67,
   "id": "95a15183",
   "metadata": {},
   "outputs": [
    {
     "data": {
      "text/plain": [
       "(1, 4, 5, 10)"
      ]
     },
     "execution_count": 67,
     "metadata": {},
     "output_type": "execute_result"
    }
   ],
   "source": [
    "#############tuplas\n",
    "tupla1=(1,4,5,\"hola\")\n",
    "#Crea una tupla con tres elementos, el elemento más parecido a un vector\n",
    "tupla1=(1,4,5)\n",
    "tupla1\n",
    "#Crea una tupla con un elemento\n",
    "#Crea una tupla vacía\n",
    "tupla_vacia=()\n",
    "#recorre la tupla al revés\n",
    "tupla1[::-1]\n",
    "#está el valor 6 en la tupla?\n",
    "6 in tupla1\n",
    "#Concatena, es decir, añade al final de la tupla: el valor 10\n",
    "tupla1+=(10,)\n",
    "tupla1\n",
    "#Modifica el valor de la posición 2 en la tupla por la palabra \"hola\"\n",
    "tupla1[2]"
   ]
  },
  {
   "cell_type": "code",
   "execution_count": 79,
   "id": "305c0ac9",
   "metadata": {},
   "outputs": [
    {
     "data": {
      "text/plain": [
       "'hola mundo hola tal hola'"
      ]
     },
     "execution_count": 79,
     "metadata": {},
     "output_type": "execute_result"
    }
   ],
   "source": [
    "#############listas\n",
    "#Crea una lista que dentro tenga palabras\n",
    "lista1=[\"hola\", \"mundo\", \"que\", \"tal\"]\n",
    "#Modifica el valor de la posición 2 en la lista por la palabra \"hola\"\n",
    "lista1[2]=\"hola\"\n",
    "lista1\n",
    "#Concatena el valor 122 con tu lista\n",
    "#Concatena el valor \"hola\" con tu lista\n",
    "lista1+=[\"hola\"]\n",
    "lista1\n",
    "\n",
    "#usa función .append\n",
    "lista_vacia=[]\n",
    "lista_vacia.append(2)\n",
    "lista_vacia\n",
    "#transforma la lista en una string con la función .join. solo si mi lista está compuesto por palabras\n",
    "\" \".join(lista1)\n"
   ]
  },
  {
   "cell_type": "code",
   "execution_count": null,
   "id": "37b322bc",
   "metadata": {},
   "outputs": [],
   "source": [
    "#############Diccionarios\n",
    "#Crea un diccionario\n",
    "#accede al valor de la 2ª clave\n",
    "#Añade una clave nueva con su correspondiente valor\n",
    "#Accede solo a los valores, o solo a las claves"
   ]
  }
 ],
 "metadata": {
  "kernelspec": {
   "display_name": "Python 3 (ipykernel)",
   "language": "python",
   "name": "python3"
  },
  "language_info": {
   "codemirror_mode": {
    "name": "ipython",
    "version": 3
   },
   "file_extension": ".py",
   "mimetype": "text/x-python",
   "name": "python",
   "nbconvert_exporter": "python",
   "pygments_lexer": "ipython3",
   "version": "3.9.12"
  }
 },
 "nbformat": 4,
 "nbformat_minor": 5
}
